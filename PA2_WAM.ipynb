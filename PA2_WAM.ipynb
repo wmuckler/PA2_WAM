{
 "cells": [
  {
   "cell_type": "markdown",
   "id": "f4ba25f7-ac43-46f7-ada8-28abbeb3566c",
   "metadata": {
    "tags": []
   },
   "source": [
    "## Programming Assignment 2\n",
    "---\n",
    "**Author:** William Muckler  \n",
    "**Version:** 1.0  \n",
    "**Semester:** Spring 2024 \n",
    "\n",
    "This *notebook* contains my solution(s) to **Programming Assignment 2**"
   ]
  },
  {
   "cell_type": "markdown",
   "id": "0c9b7c53-696d-41cb-9cb8-a55fc7f6891a",
   "metadata": {
    "tags": []
   },
   "source": [
    "### Problem 1- Printing Numbers"
   ]
  },
  {
   "cell_type": "code",
   "execution_count": 84,
   "id": "64aaa007-af8b-4d34-813f-cc8e9b7c2335",
   "metadata": {
    "tags": []
   },
   "outputs": [
    {
     "name": "stdout",
     "output_type": "stream",
     "text": [
      "0 *\n",
      "1\n",
      "2\n",
      "3 *\n",
      "4\n",
      "5\n",
      "6 *\n",
      "7\n",
      "8\n",
      "9 *\n",
      "10\n",
      "11\n",
      "12 *\n",
      "13\n",
      "14\n",
      "15 *\n",
      "16\n",
      "17\n",
      "18 *\n",
      "19\n",
      "20\n",
      "21 *\n",
      "22\n",
      "23\n",
      "24 *\n",
      "25\n",
      "26\n",
      "27 *\n",
      "28\n",
      "29\n",
      "30 *\n",
      "31\n",
      "32\n",
      "33 *\n",
      "34\n",
      "35\n",
      "36 *\n",
      "37\n",
      "38\n",
      "39 *\n",
      "40\n",
      "41\n",
      "42 *\n",
      "43\n",
      "44\n",
      "45 *\n",
      "46\n",
      "47\n",
      "48 *\n",
      "49\n",
      "50\n",
      "51 *\n",
      "52\n",
      "53\n",
      "54 *\n",
      "55\n",
      "56\n",
      "57 *\n",
      "58\n",
      "59\n",
      "60 *\n",
      "61\n",
      "62\n",
      "63 *\n",
      "64\n",
      "65\n",
      "66 *\n",
      "67\n",
      "68\n",
      "69 *\n",
      "70\n",
      "71\n",
      "72 *\n",
      "73\n",
      "74\n",
      "75 *\n",
      "76\n",
      "77\n",
      "78 *\n",
      "79\n",
      "80\n",
      "81 *\n",
      "82\n",
      "83\n",
      "84 *\n",
      "85\n",
      "86\n",
      "87 *\n",
      "88\n",
      "89\n",
      "90 *\n",
      "91\n",
      "92\n",
      "93 *\n",
      "94\n",
      "95\n",
      "96 *\n",
      "97\n",
      "98\n",
      "99 *\n",
      "100\n"
     ]
    }
   ],
   "source": [
    "for i in range(101):\n",
    "    if i % 3 == 0:\n",
    "        print(i,'*')\n",
    "    else:\n",
    "        print(i)"
   ]
  },
  {
   "cell_type": "markdown",
   "id": "086250da-4915-40d9-b1ba-751ea2e3c57f",
   "metadata": {
    "tags": []
   },
   "source": [
    "### Problem 2- Age Status"
   ]
  },
  {
   "cell_type": "code",
   "execution_count": 135,
   "id": "3634c2ba-d01b-48a4-ae21-a2cbfdf919b3",
   "metadata": {},
   "outputs": [
    {
     "name": "stdin",
     "output_type": "stream",
     "text": [
      "What is your age? 0\n"
     ]
    },
    {
     "name": "stdout",
     "output_type": "stream",
     "text": [
      "Done!\n"
     ]
    }
   ],
   "source": [
    "while True:\n",
    "    age = int(input('What is your age?'))\n",
    "    if 0 < age < 18:\n",
    "        print('Minor')\n",
    "    elif age >= 65:\n",
    "        print('Senior Citizen')\n",
    "    elif age == 0:\n",
    "        print('Done!')\n",
    "        break\n",
    "    else:\n",
    "        print('Adult')"
   ]
  },
  {
   "cell_type": "markdown",
   "id": "8e81e6d0-28a5-4a91-bfd7-a6997566b6a8",
   "metadata": {
    "tags": []
   },
   "source": [
    "### Problem 3- Age Status v2"
   ]
  },
  {
   "cell_type": "code",
   "execution_count": 136,
   "id": "2abdd705-2ee9-414d-bacd-057b3d692afa",
   "metadata": {
    "tags": []
   },
   "outputs": [
    {
     "name": "stdout",
     "output_type": "stream",
     "text": [
      "65, Senior Citizen\n",
      "78, Senior Citizen\n",
      "34, Adult\n",
      "56, Adult\n",
      "12, Minor\n",
      "9, Minor\n",
      "43, Adult\n",
      "67, Senior Citizen\n"
     ]
    }
   ],
   "source": [
    "list = [65,78,34,56,12,9,43,67]\n",
    "for age in list:\n",
    "    if 0 < age < 18:\n",
    "        print(f'{age}, Minor')\n",
    "    elif age >= 65:\n",
    "        print(f'{age}, Senior Citizen')\n",
    "    elif age == 0:\n",
    "        print(f'{age}, Done!')\n",
    "        break\n",
    "    else:\n",
    "        print(f'{age}, Adult')"
   ]
  },
  {
   "cell_type": "markdown",
   "id": "028c1dd4-97ec-4a70-8865-ac135e26350b",
   "metadata": {},
   "source": [
    "### Problem 4- Calculating Pi"
   ]
  },
  {
   "cell_type": "code",
   "execution_count": null,
   "id": "bdbcf10b-6014-4397-b8c6-5358ca99a5d4",
   "metadata": {},
   "outputs": [],
   "source": [
    "num_list = [100, 1000, 10000, 100000, 1000000]"
   ]
  },
  {
   "cell_type": "code",
   "execution_count": 205,
   "id": "4a5e6e8a-b665-46d9-95d7-6acf96d24bb9",
   "metadata": {
    "tags": []
   },
   "outputs": [
    {
     "name": "stdout",
     "output_type": "stream",
     "text": [
      "Pi=3.1315929035585537 using 100 terms.\n",
      "Pi=3.140592653839794 using 1000 terms.\n",
      "Pi=3.1414926535900345 using 10000 terms.\n",
      "Pi=3.1415826535897198 using 100000 terms.\n",
      "Pi=3.1415916535897743 using 1000000 terms.\n"
     ]
    }
   ],
   "source": [
    "def estimate_pi(num):\n",
    "    pi = 0\n",
    "    first = 1\n",
    "    n = 0\n",
    "    while n < num:\n",
    "        pi += 4 * first / (2 * n + 1)\n",
    "        first *= -1\n",
    "        n+= 1\n",
    "    return pi\n",
    "\n",
    "for num in num_list:\n",
    "    pi_estimate = estimate_pi(num)\n",
    "    print(f'Pi={pi_estimate} using {num} terms.')"
   ]
  },
  {
   "cell_type": "code",
   "execution_count": null,
   "id": "f6b6c622-c5a8-4d0d-859b-bbea9a61ef8a",
   "metadata": {},
   "outputs": [],
   "source": []
  }
 ],
 "metadata": {
  "kernelspec": {
   "display_name": "Python 3 (ipykernel)",
   "language": "python",
   "name": "python3"
  },
  "language_info": {
   "codemirror_mode": {
    "name": "ipython",
    "version": 3
   },
   "file_extension": ".py",
   "mimetype": "text/x-python",
   "name": "python",
   "nbconvert_exporter": "python",
   "pygments_lexer": "ipython3",
   "version": "3.11.5"
  }
 },
 "nbformat": 4,
 "nbformat_minor": 5
}
